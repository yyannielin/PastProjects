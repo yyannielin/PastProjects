{
  "nbformat": 4,
  "nbformat_minor": 0,
  "metadata": {
    "colab": {
      "name": "DataFest2021.ipynb",
      "provenance": [],
      "collapsed_sections": []
    },
    "kernelspec": {
      "name": "python3",
      "display_name": "Python 3"
    },
    "language_info": {
      "name": "python"
    }
  },
  "cells": [
    {
      "cell_type": "markdown",
      "metadata": {
        "id": "gcubfnP-CuFg"
      },
      "source": [
        "# Part 1: Data preview "
      ]
    },
    {
      "cell_type": "code",
      "metadata": {
        "id": "RxY2aHGo6Wbp"
      },
      "source": [
        "#import libraries \n",
        "import numpy as np\n",
        "import pandas as pd \n",
        "import missingno as msno\n",
        "# msno.matrix(df_ca)\n",
        "import matplotlib.pyplot as plt\n",
        "import seaborn as sns\n",
        "sns.set_theme(palette=sns.color_palette(\"ch:s=.25,rot=-.25\"))\n",
        "# sns.set_theme()"
      ],
      "execution_count": null,
      "outputs": []
    },
    {
      "cell_type": "code",
      "metadata": {
        "id": "y-yDwlNmuNqr",
        "colab": {
          "base_uri": "https://localhost:8080/",
          "height": 423
        },
        "outputId": "a2ef2869-afc5-4ad3-c3d9-5fe9647d9e7b"
      },
      "source": [
        "df_ca=pd.read_csv('https://raw.githubusercontent.com/yyannielin/DataFest2021/main/CA/ca.csv')\n",
        "df_ca.head()\n",
        "#df_ca.shape"
      ],
      "execution_count": null,
      "outputs": [
        {
          "output_type": "execute_result",
          "data": {
            "text/html": [
              "<div>\n",
              "<style scoped>\n",
              "    .dataframe tbody tr th:only-of-type {\n",
              "        vertical-align: middle;\n",
              "    }\n",
              "\n",
              "    .dataframe tbody tr th {\n",
              "        vertical-align: top;\n",
              "    }\n",
              "\n",
              "    .dataframe thead th {\n",
              "        text-align: right;\n",
              "    }\n",
              "</style>\n",
              "<table border=\"1\" class=\"dataframe\">\n",
              "  <thead>\n",
              "    <tr style=\"text-align: right;\">\n",
              "      <th></th>\n",
              "      <th>DATE</th>\n",
              "      <th>STATUS</th>\n",
              "      <th>QLANG</th>\n",
              "      <th>DEM_GENDER</th>\n",
              "      <th>DEM_AGE</th>\n",
              "      <th>DEM_ABOR</th>\n",
              "      <th>DEM_ABOR_TYPE</th>\n",
              "      <th>DEM_STDNT</th>\n",
              "      <th>DEM_VET</th>\n",
              "      <th>DEM_HEALTH</th>\n",
              "      <th>DEM_LOCATION</th>\n",
              "      <th>DEM_REGION</th>\n",
              "      <th>DEM_POSTAL</th>\n",
              "      <th>DEM_MARITAL</th>\n",
              "      <th>DEM_INCOME</th>\n",
              "      <th>DEM_EDU</th>\n",
              "      <th>DEM_PREG</th>\n",
              "      <th>DEM_PREGMNTH</th>\n",
              "      <th>HEALTH_SETTING_PRE</th>\n",
              "      <th>HEALTH_SETTING_HOS</th>\n",
              "      <th>HEALTH_SETTING_OUT</th>\n",
              "      <th>HEALTH_SETTING_HOME</th>\n",
              "      <th>HEALTH_SETTING_PRIV</th>\n",
              "      <th>HEALTH_SETTING_OTH</th>\n",
              "      <th>HEALTH_ROLE</th>\n",
              "      <th>HEALTH_RX</th>\n",
              "      <th>FENT_USE</th>\n",
              "      <th>FENT_NMU</th>\n",
              "      <th>BUP_USE</th>\n",
              "      <th>BUP_NMU</th>\n",
              "      <th>METH_USE</th>\n",
              "      <th>METH_NMU</th>\n",
              "      <th>MORPH_USE</th>\n",
              "      <th>MORPH_NMU</th>\n",
              "      <th>OXY_USE</th>\n",
              "      <th>OXY_NMU</th>\n",
              "      <th>OXYM_USE</th>\n",
              "      <th>OXYM_NMU</th>\n",
              "      <th>TRAM_USE</th>\n",
              "      <th>TRAM_NMU</th>\n",
              "      <th>...</th>\n",
              "      <th>DAST_CAT</th>\n",
              "      <th>OP_USE</th>\n",
              "      <th>GABA_USE</th>\n",
              "      <th>OP_NMU_EVER</th>\n",
              "      <th>GABA_NMU_EVER</th>\n",
              "      <th>BENZ_NMU_EVER</th>\n",
              "      <th>STIM_NMU_EVER</th>\n",
              "      <th>OP_NMU_YR</th>\n",
              "      <th>BENZ_NMU_YR</th>\n",
              "      <th>STIM_NMU_YR</th>\n",
              "      <th>GABA_NMU_YR</th>\n",
              "      <th>OP_NMU_NTY</th>\n",
              "      <th>OP_NMU_MNTH</th>\n",
              "      <th>OP_NMU_WK</th>\n",
              "      <th>BENZ_NMU_NTY</th>\n",
              "      <th>BENZ_NMU_MNTH</th>\n",
              "      <th>BENZ_NMU_WK</th>\n",
              "      <th>STIM_NMU_NTY</th>\n",
              "      <th>STIM_NMU_MNTH</th>\n",
              "      <th>STIM_NMU_WK</th>\n",
              "      <th>GABA_NMU_NTY</th>\n",
              "      <th>GABA_NMU_MNTH</th>\n",
              "      <th>GABA_NMU_WK</th>\n",
              "      <th>ILL_USE</th>\n",
              "      <th>ILL_YR</th>\n",
              "      <th>ILL_MNTH</th>\n",
              "      <th>ILL_WK</th>\n",
              "      <th>BUP_NMU_NTY</th>\n",
              "      <th>COD_NMU_NTY</th>\n",
              "      <th>COTC_NMU_NTY</th>\n",
              "      <th>FENT_NMU_NTY</th>\n",
              "      <th>HYD_NMU_NTY</th>\n",
              "      <th>HYDM_NMU_NTY</th>\n",
              "      <th>METH_NMU_NTY</th>\n",
              "      <th>MORPH_NMU_NTY</th>\n",
              "      <th>OXY_NMU_NTY</th>\n",
              "      <th>OXYM_NMU_NTY</th>\n",
              "      <th>SUF_NMU_NTY</th>\n",
              "      <th>TAP_NMU_NTY</th>\n",
              "      <th>TRAM_NMU_NTY</th>\n",
              "    </tr>\n",
              "  </thead>\n",
              "  <tbody>\n",
              "    <tr>\n",
              "      <th>0</th>\n",
              "      <td>2017-09-28 18:13:25</td>\n",
              "      <td>3</td>\n",
              "      <td>1</td>\n",
              "      <td>1</td>\n",
              "      <td>18</td>\n",
              "      <td>0</td>\n",
              "      <td>NaN</td>\n",
              "      <td>0</td>\n",
              "      <td>0</td>\n",
              "      <td>0</td>\n",
              "      <td>2</td>\n",
              "      <td>1</td>\n",
              "      <td>B0N</td>\n",
              "      <td>6</td>\n",
              "      <td>10</td>\n",
              "      <td>1</td>\n",
              "      <td>NaN</td>\n",
              "      <td>NaN</td>\n",
              "      <td>NaN</td>\n",
              "      <td>NaN</td>\n",
              "      <td>NaN</td>\n",
              "      <td>NaN</td>\n",
              "      <td>NaN</td>\n",
              "      <td>NaN</td>\n",
              "      <td>NaN</td>\n",
              "      <td>NaN</td>\n",
              "      <td>0</td>\n",
              "      <td>NaN</td>\n",
              "      <td>0</td>\n",
              "      <td>NaN</td>\n",
              "      <td>0</td>\n",
              "      <td>NaN</td>\n",
              "      <td>0</td>\n",
              "      <td>NaN</td>\n",
              "      <td>1</td>\n",
              "      <td>0.0</td>\n",
              "      <td>0</td>\n",
              "      <td>NaN</td>\n",
              "      <td>1</td>\n",
              "      <td>0.0</td>\n",
              "      <td>...</td>\n",
              "      <td>2</td>\n",
              "      <td>1</td>\n",
              "      <td>0</td>\n",
              "      <td>0</td>\n",
              "      <td>0</td>\n",
              "      <td>0</td>\n",
              "      <td>0</td>\n",
              "      <td>0</td>\n",
              "      <td>0</td>\n",
              "      <td>0</td>\n",
              "      <td>0</td>\n",
              "      <td>0</td>\n",
              "      <td>0</td>\n",
              "      <td>0</td>\n",
              "      <td>0</td>\n",
              "      <td>0</td>\n",
              "      <td>0</td>\n",
              "      <td>0</td>\n",
              "      <td>0</td>\n",
              "      <td>0</td>\n",
              "      <td>0</td>\n",
              "      <td>0</td>\n",
              "      <td>0</td>\n",
              "      <td>0</td>\n",
              "      <td>0</td>\n",
              "      <td>0</td>\n",
              "      <td>0</td>\n",
              "      <td>0</td>\n",
              "      <td>0</td>\n",
              "      <td>0</td>\n",
              "      <td>0</td>\n",
              "      <td>0</td>\n",
              "      <td>0</td>\n",
              "      <td>0</td>\n",
              "      <td>0</td>\n",
              "      <td>0</td>\n",
              "      <td>0</td>\n",
              "      <td>0</td>\n",
              "      <td>0</td>\n",
              "      <td>0</td>\n",
              "    </tr>\n",
              "    <tr>\n",
              "      <th>1</th>\n",
              "      <td>2017-10-18 18:46:34</td>\n",
              "      <td>3</td>\n",
              "      <td>1</td>\n",
              "      <td>1</td>\n",
              "      <td>18</td>\n",
              "      <td>0</td>\n",
              "      <td>NaN</td>\n",
              "      <td>1</td>\n",
              "      <td>0</td>\n",
              "      <td>0</td>\n",
              "      <td>1</td>\n",
              "      <td>1</td>\n",
              "      <td>A1B</td>\n",
              "      <td>6</td>\n",
              "      <td>10</td>\n",
              "      <td>2</td>\n",
              "      <td>NaN</td>\n",
              "      <td>NaN</td>\n",
              "      <td>NaN</td>\n",
              "      <td>NaN</td>\n",
              "      <td>NaN</td>\n",
              "      <td>NaN</td>\n",
              "      <td>NaN</td>\n",
              "      <td>NaN</td>\n",
              "      <td>NaN</td>\n",
              "      <td>NaN</td>\n",
              "      <td>0</td>\n",
              "      <td>NaN</td>\n",
              "      <td>0</td>\n",
              "      <td>NaN</td>\n",
              "      <td>0</td>\n",
              "      <td>NaN</td>\n",
              "      <td>0</td>\n",
              "      <td>NaN</td>\n",
              "      <td>0</td>\n",
              "      <td>NaN</td>\n",
              "      <td>0</td>\n",
              "      <td>NaN</td>\n",
              "      <td>0</td>\n",
              "      <td>NaN</td>\n",
              "      <td>...</td>\n",
              "      <td>1</td>\n",
              "      <td>0</td>\n",
              "      <td>0</td>\n",
              "      <td>0</td>\n",
              "      <td>0</td>\n",
              "      <td>0</td>\n",
              "      <td>0</td>\n",
              "      <td>0</td>\n",
              "      <td>0</td>\n",
              "      <td>0</td>\n",
              "      <td>0</td>\n",
              "      <td>0</td>\n",
              "      <td>0</td>\n",
              "      <td>0</td>\n",
              "      <td>0</td>\n",
              "      <td>0</td>\n",
              "      <td>0</td>\n",
              "      <td>0</td>\n",
              "      <td>0</td>\n",
              "      <td>0</td>\n",
              "      <td>0</td>\n",
              "      <td>0</td>\n",
              "      <td>0</td>\n",
              "      <td>0</td>\n",
              "      <td>0</td>\n",
              "      <td>0</td>\n",
              "      <td>0</td>\n",
              "      <td>0</td>\n",
              "      <td>0</td>\n",
              "      <td>0</td>\n",
              "      <td>0</td>\n",
              "      <td>0</td>\n",
              "      <td>0</td>\n",
              "      <td>0</td>\n",
              "      <td>0</td>\n",
              "      <td>0</td>\n",
              "      <td>0</td>\n",
              "      <td>0</td>\n",
              "      <td>0</td>\n",
              "      <td>0</td>\n",
              "    </tr>\n",
              "    <tr>\n",
              "      <th>2</th>\n",
              "      <td>2017-09-29 06:58:50</td>\n",
              "      <td>3</td>\n",
              "      <td>1</td>\n",
              "      <td>1</td>\n",
              "      <td>24</td>\n",
              "      <td>0</td>\n",
              "      <td>NaN</td>\n",
              "      <td>0</td>\n",
              "      <td>0</td>\n",
              "      <td>0</td>\n",
              "      <td>4</td>\n",
              "      <td>1</td>\n",
              "      <td>E5C</td>\n",
              "      <td>6</td>\n",
              "      <td>1</td>\n",
              "      <td>7</td>\n",
              "      <td>NaN</td>\n",
              "      <td>NaN</td>\n",
              "      <td>NaN</td>\n",
              "      <td>NaN</td>\n",
              "      <td>NaN</td>\n",
              "      <td>NaN</td>\n",
              "      <td>NaN</td>\n",
              "      <td>NaN</td>\n",
              "      <td>NaN</td>\n",
              "      <td>NaN</td>\n",
              "      <td>0</td>\n",
              "      <td>NaN</td>\n",
              "      <td>0</td>\n",
              "      <td>NaN</td>\n",
              "      <td>0</td>\n",
              "      <td>NaN</td>\n",
              "      <td>0</td>\n",
              "      <td>NaN</td>\n",
              "      <td>0</td>\n",
              "      <td>NaN</td>\n",
              "      <td>0</td>\n",
              "      <td>NaN</td>\n",
              "      <td>1</td>\n",
              "      <td>0.0</td>\n",
              "      <td>...</td>\n",
              "      <td>2</td>\n",
              "      <td>1</td>\n",
              "      <td>1</td>\n",
              "      <td>0</td>\n",
              "      <td>1</td>\n",
              "      <td>0</td>\n",
              "      <td>0</td>\n",
              "      <td>0</td>\n",
              "      <td>0</td>\n",
              "      <td>0</td>\n",
              "      <td>1</td>\n",
              "      <td>0</td>\n",
              "      <td>0</td>\n",
              "      <td>0</td>\n",
              "      <td>0</td>\n",
              "      <td>0</td>\n",
              "      <td>0</td>\n",
              "      <td>0</td>\n",
              "      <td>0</td>\n",
              "      <td>0</td>\n",
              "      <td>0</td>\n",
              "      <td>0</td>\n",
              "      <td>0</td>\n",
              "      <td>0</td>\n",
              "      <td>0</td>\n",
              "      <td>0</td>\n",
              "      <td>0</td>\n",
              "      <td>0</td>\n",
              "      <td>0</td>\n",
              "      <td>0</td>\n",
              "      <td>0</td>\n",
              "      <td>0</td>\n",
              "      <td>0</td>\n",
              "      <td>0</td>\n",
              "      <td>0</td>\n",
              "      <td>0</td>\n",
              "      <td>0</td>\n",
              "      <td>0</td>\n",
              "      <td>0</td>\n",
              "      <td>0</td>\n",
              "    </tr>\n",
              "    <tr>\n",
              "      <th>3</th>\n",
              "      <td>2017-10-03 17:58:19</td>\n",
              "      <td>3</td>\n",
              "      <td>1</td>\n",
              "      <td>1</td>\n",
              "      <td>16</td>\n",
              "      <td>0</td>\n",
              "      <td>NaN</td>\n",
              "      <td>1</td>\n",
              "      <td>0</td>\n",
              "      <td>0</td>\n",
              "      <td>4</td>\n",
              "      <td>1</td>\n",
              "      <td>E3A</td>\n",
              "      <td>6</td>\n",
              "      <td>10</td>\n",
              "      <td>7</td>\n",
              "      <td>NaN</td>\n",
              "      <td>NaN</td>\n",
              "      <td>NaN</td>\n",
              "      <td>NaN</td>\n",
              "      <td>NaN</td>\n",
              "      <td>NaN</td>\n",
              "      <td>NaN</td>\n",
              "      <td>NaN</td>\n",
              "      <td>NaN</td>\n",
              "      <td>NaN</td>\n",
              "      <td>0</td>\n",
              "      <td>NaN</td>\n",
              "      <td>0</td>\n",
              "      <td>NaN</td>\n",
              "      <td>0</td>\n",
              "      <td>NaN</td>\n",
              "      <td>0</td>\n",
              "      <td>NaN</td>\n",
              "      <td>0</td>\n",
              "      <td>NaN</td>\n",
              "      <td>0</td>\n",
              "      <td>NaN</td>\n",
              "      <td>0</td>\n",
              "      <td>NaN</td>\n",
              "      <td>...</td>\n",
              "      <td>2</td>\n",
              "      <td>0</td>\n",
              "      <td>0</td>\n",
              "      <td>0</td>\n",
              "      <td>0</td>\n",
              "      <td>0</td>\n",
              "      <td>0</td>\n",
              "      <td>0</td>\n",
              "      <td>0</td>\n",
              "      <td>0</td>\n",
              "      <td>0</td>\n",
              "      <td>0</td>\n",
              "      <td>0</td>\n",
              "      <td>0</td>\n",
              "      <td>0</td>\n",
              "      <td>0</td>\n",
              "      <td>0</td>\n",
              "      <td>0</td>\n",
              "      <td>0</td>\n",
              "      <td>0</td>\n",
              "      <td>0</td>\n",
              "      <td>0</td>\n",
              "      <td>0</td>\n",
              "      <td>0</td>\n",
              "      <td>0</td>\n",
              "      <td>0</td>\n",
              "      <td>0</td>\n",
              "      <td>0</td>\n",
              "      <td>0</td>\n",
              "      <td>0</td>\n",
              "      <td>0</td>\n",
              "      <td>0</td>\n",
              "      <td>0</td>\n",
              "      <td>0</td>\n",
              "      <td>0</td>\n",
              "      <td>0</td>\n",
              "      <td>0</td>\n",
              "      <td>0</td>\n",
              "      <td>0</td>\n",
              "      <td>0</td>\n",
              "    </tr>\n",
              "    <tr>\n",
              "      <th>4</th>\n",
              "      <td>2017-10-25 21:09:49</td>\n",
              "      <td>3</td>\n",
              "      <td>1</td>\n",
              "      <td>1</td>\n",
              "      <td>21</td>\n",
              "      <td>0</td>\n",
              "      <td>NaN</td>\n",
              "      <td>1</td>\n",
              "      <td>0</td>\n",
              "      <td>0</td>\n",
              "      <td>2</td>\n",
              "      <td>1</td>\n",
              "      <td>A9A</td>\n",
              "      <td>6</td>\n",
              "      <td>4</td>\n",
              "      <td>2</td>\n",
              "      <td>NaN</td>\n",
              "      <td>NaN</td>\n",
              "      <td>NaN</td>\n",
              "      <td>NaN</td>\n",
              "      <td>NaN</td>\n",
              "      <td>NaN</td>\n",
              "      <td>NaN</td>\n",
              "      <td>NaN</td>\n",
              "      <td>NaN</td>\n",
              "      <td>NaN</td>\n",
              "      <td>0</td>\n",
              "      <td>NaN</td>\n",
              "      <td>0</td>\n",
              "      <td>NaN</td>\n",
              "      <td>0</td>\n",
              "      <td>NaN</td>\n",
              "      <td>0</td>\n",
              "      <td>NaN</td>\n",
              "      <td>0</td>\n",
              "      <td>NaN</td>\n",
              "      <td>0</td>\n",
              "      <td>NaN</td>\n",
              "      <td>0</td>\n",
              "      <td>NaN</td>\n",
              "      <td>...</td>\n",
              "      <td>2</td>\n",
              "      <td>1</td>\n",
              "      <td>0</td>\n",
              "      <td>0</td>\n",
              "      <td>0</td>\n",
              "      <td>0</td>\n",
              "      <td>1</td>\n",
              "      <td>0</td>\n",
              "      <td>0</td>\n",
              "      <td>0</td>\n",
              "      <td>0</td>\n",
              "      <td>0</td>\n",
              "      <td>0</td>\n",
              "      <td>0</td>\n",
              "      <td>0</td>\n",
              "      <td>0</td>\n",
              "      <td>0</td>\n",
              "      <td>0</td>\n",
              "      <td>0</td>\n",
              "      <td>0</td>\n",
              "      <td>0</td>\n",
              "      <td>0</td>\n",
              "      <td>0</td>\n",
              "      <td>1</td>\n",
              "      <td>1</td>\n",
              "      <td>1</td>\n",
              "      <td>0</td>\n",
              "      <td>0</td>\n",
              "      <td>0</td>\n",
              "      <td>0</td>\n",
              "      <td>0</td>\n",
              "      <td>0</td>\n",
              "      <td>0</td>\n",
              "      <td>0</td>\n",
              "      <td>0</td>\n",
              "      <td>0</td>\n",
              "      <td>0</td>\n",
              "      <td>0</td>\n",
              "      <td>0</td>\n",
              "      <td>0</td>\n",
              "    </tr>\n",
              "  </tbody>\n",
              "</table>\n",
              "<p>5 rows × 185 columns</p>\n",
              "</div>"
            ],
            "text/plain": [
              "                  DATE  STATUS  QLANG  ...  SUF_NMU_NTY  TAP_NMU_NTY  TRAM_NMU_NTY\n",
              "0  2017-09-28 18:13:25       3      1  ...            0            0             0\n",
              "1  2017-10-18 18:46:34       3      1  ...            0            0             0\n",
              "2  2017-09-29 06:58:50       3      1  ...            0            0             0\n",
              "3  2017-10-03 17:58:19       3      1  ...            0            0             0\n",
              "4  2017-10-25 21:09:49       3      1  ...            0            0             0\n",
              "\n",
              "[5 rows x 185 columns]"
            ]
          },
          "metadata": {
            "tags": []
          },
          "execution_count": 3
        }
      ]
    },
    {
      "cell_type": "markdown",
      "metadata": {
        "id": "W3hLum6NFLF5"
      },
      "source": [
        "# Part 2: Questions and Analysis"
      ]
    },
    {
      "cell_type": "markdown",
      "metadata": {
        "id": "VXCCE9ZKFPdr"
      },
      "source": [
        "##1. Education: \n",
        "does a person's degree of education affect NMU? Among each group, how many different drugs are a person taking with prescription vs. taking as NMU? Are some drugs more widely used than others?\n",
        "\n"
      ]
    },
    {
      "cell_type": "code",
      "metadata": {
        "id": "RsoxJvXFI-hC"
      },
      "source": [
        "# meaningful variables for education:\n",
        "# *DEM_EDU \n",
        "\n",
        "# RXDRUGSAFE_HIGH\n",
        "# RXDRUGSAFE_PAIN\n",
        "# RXDRUGSAFE_THER\n",
        "\n",
        "# DRSHOP_NMU  \n",
        "# DRSHOP_SELL  \n",
        "\n",
        "# DAST_1\n",
        "# DAST_2\n",
        "# … \n",
        "# DAST_SUM"
      ],
      "execution_count": null,
      "outputs": []
    },
    {
      "cell_type": "code",
      "metadata": {
        "id": "OytKTD736Mnl"
      },
      "source": [
        "#DEM_EDU - Key\n",
        "# Less than high school diploma or its equivalent\t1\n",
        "# High school diploma or a high school equivalency certificate\t2\n",
        "# Trade certificate or diploma\t3\n",
        "# College, CEGEP or other non-university certificate or diploma (other than trades certificates or diplomas)…4\n",
        "# University certificate or diploma below the bachelor's level\t5\n",
        "# Bachelor's degree (e.g. B.A., B.Sc., LL.B.)\t6\n",
        "# University certificate, diploma, degree above the bachelor's level\t7"
      ],
      "execution_count": null,
      "outputs": []
    },
    {
      "cell_type": "code",
      "metadata": {
        "colab": {
          "base_uri": "https://localhost:8080/",
          "height": 266
        },
        "id": "nEhkiF9Tf1UV",
        "outputId": "e1a2c21e-4630-4d63-b304-6f7d3c953699"
      },
      "source": [
        "df_ca.groupby('DEM_EDU',as_index=False).count()[['DEM_EDU','DATE']]"
      ],
      "execution_count": null,
      "outputs": [
        {
          "output_type": "execute_result",
          "data": {
            "text/html": [
              "<div>\n",
              "<style scoped>\n",
              "    .dataframe tbody tr th:only-of-type {\n",
              "        vertical-align: middle;\n",
              "    }\n",
              "\n",
              "    .dataframe tbody tr th {\n",
              "        vertical-align: top;\n",
              "    }\n",
              "\n",
              "    .dataframe thead th {\n",
              "        text-align: right;\n",
              "    }\n",
              "</style>\n",
              "<table border=\"1\" class=\"dataframe\">\n",
              "  <thead>\n",
              "    <tr style=\"text-align: right;\">\n",
              "      <th></th>\n",
              "      <th>DEM_EDU</th>\n",
              "      <th>DATE</th>\n",
              "    </tr>\n",
              "  </thead>\n",
              "  <tbody>\n",
              "    <tr>\n",
              "      <th>0</th>\n",
              "      <td>1</td>\n",
              "      <td>549</td>\n",
              "    </tr>\n",
              "    <tr>\n",
              "      <th>1</th>\n",
              "      <td>2</td>\n",
              "      <td>2386</td>\n",
              "    </tr>\n",
              "    <tr>\n",
              "      <th>2</th>\n",
              "      <td>3</td>\n",
              "      <td>1031</td>\n",
              "    </tr>\n",
              "    <tr>\n",
              "      <th>3</th>\n",
              "      <td>4</td>\n",
              "      <td>2471</td>\n",
              "    </tr>\n",
              "    <tr>\n",
              "      <th>4</th>\n",
              "      <td>5</td>\n",
              "      <td>750</td>\n",
              "    </tr>\n",
              "    <tr>\n",
              "      <th>5</th>\n",
              "      <td>6</td>\n",
              "      <td>1819</td>\n",
              "    </tr>\n",
              "    <tr>\n",
              "      <th>6</th>\n",
              "      <td>7</td>\n",
              "      <td>1001</td>\n",
              "    </tr>\n",
              "  </tbody>\n",
              "</table>\n",
              "</div>"
            ],
            "text/plain": [
              "   DEM_EDU  DATE\n",
              "0        1   549\n",
              "1        2  2386\n",
              "2        3  1031\n",
              "3        4  2471\n",
              "4        5   750\n",
              "5        6  1819\n",
              "6        7  1001"
            ]
          },
          "metadata": {
            "tags": []
          },
          "execution_count": 4
        }
      ]
    },
    {
      "cell_type": "code",
      "metadata": {
        "colab": {
          "base_uri": "https://localhost:8080/",
          "height": 248
        },
        "id": "JPTGo1t7dk6G",
        "outputId": "a1d11793-40d4-47eb-d81e-478a06a73fec"
      },
      "source": [
        "num=df_ca.groupby('DEM_EDU',as_index=False).count()['DATE']\n",
        "num.plot.pie(autopct=\"%.1f%%\");"
      ],
      "execution_count": null,
      "outputs": [
        {
          "output_type": "display_data",
          "data": {
            "image/png": "[encoded data removed]",
            "text/plain": [
              "<Figure size 432x288 with 1 Axes>"
            ]
          },
          "metadata": {
            "tags": []
          }
        }
      ]
    },
    {
      "cell_type": "code",
      "metadata": {
        "colab": {
          "base_uri": "https://localhost:8080/",
          "height": 302
        },
        "id": "yG1dyqkFfpz4",
        "outputId": "1db34569-df6d-4f81-8243-e16f7e3d7be3"
      },
      "source": [
        "#TODO: fit a line to bar chart\n",
        "sns.barplot(x= \"DEM_EDU\", y=\"RXDRUGSAFE_HIGH\",data=df_ca)"
      ],
      "execution_count": null,
      "outputs": [
        {
          "output_type": "execute_result",
          "data": {
            "text/plain": [
              "<matplotlib.axes._subplots.AxesSubplot at 0x7f8eeacf5d90>"
            ]
          },
          "metadata": {
            "tags": []
          },
          "execution_count": 8
        },
        {
          "output_type": "display_data",
          "data": {
            "image/png": "[encoded data removed]",
            "text/plain": [
              "<Figure size 432x288 with 1 Axes>"
            ]
          },
          "metadata": {
            "tags": []
          }
        }
      ]
    },
    {
      "cell_type": "code",
      "metadata": {
        "colab": {
          "base_uri": "https://localhost:8080/",
          "height": 302
        },
        "id": "Ft-DU9bd618I",
        "outputId": "9066e506-1e1a-4881-b475-3bc83a071dee"
      },
      "source": [
        "sns.barplot(x= \"DEM_EDU\", y=\"RXDRUGSAFE_PAIN\",data=df_ca)"
      ],
      "execution_count": null,
      "outputs": [
        {
          "output_type": "execute_result",
          "data": {
            "text/plain": [
              "<matplotlib.axes._subplots.AxesSubplot at 0x7f41a2a8a210>"
            ]
          },
          "metadata": {
            "tags": []
          },
          "execution_count": 12
        },
        {
          "output_type": "display_data",
          "data": {
            "image/png": "[encoded data removed]",
            "text/plain": [
              "<Figure size 432x288 with 1 Axes>"
            ]
          },
          "metadata": {
            "tags": []
          }
        }
      ]
    },
    {
      "cell_type": "code",
      "metadata": {
        "colab": {
          "base_uri": "https://localhost:8080/",
          "height": 302
        },
        "id": "EmvC4xQn8JcG",
        "outputId": "82a88e54-61d1-45d6-f795-fd752f6c1092"
      },
      "source": [
        "sns.barplot(x= \"DEM_EDU\", y=\"RXDRUGSAFE_THER\",data=df_ca)"
      ],
      "execution_count": null,
      "outputs": [
        {
          "output_type": "execute_result",
          "data": {
            "text/plain": [
              "<matplotlib.axes._subplots.AxesSubplot at 0x7f41a2a14d90>"
            ]
          },
          "metadata": {
            "tags": []
          },
          "execution_count": 13
        },
        {
          "output_type": "display_data",
          "data": {
            "image/png": "[encoded data removed]",
            "text/plain": [
              "<Figure size 432x288 with 1 Axes>"
            ]
          },
          "metadata": {
            "tags": []
          }
        }
      ]
    },
    {
      "cell_type": "code",
      "metadata": {
        "colab": {
          "base_uri": "https://localhost:8080/",
          "height": 302
        },
        "id": "I0tIJBXxhKz1",
        "outputId": "7484afa4-c32e-457c-c150-6e4ae58ea6e6"
      },
      "source": [
        "sns.barplot(x= \"DEM_EDU\", y=\"DAST_1\",data=df_ca)"
      ],
      "execution_count": null,
      "outputs": [
        {
          "output_type": "execute_result",
          "data": {
            "text/plain": [
              "<matplotlib.axes._subplots.AxesSubplot at 0x7f41a3026750>"
            ]
          },
          "metadata": {
            "tags": []
          },
          "execution_count": 14
        },
        {
          "output_type": "display_data",
          "data": {
            "image/png": "[encoded data removed]",
            "text/plain": [
              "<Figure size 432x288 with 1 Axes>"
            ]
          },
          "metadata": {
            "tags": []
          }
        }
      ]
    },
    {
      "cell_type": "code",
      "metadata": {
        "colab": {
          "base_uri": "https://localhost:8080/",
          "height": 297
        },
        "id": "NudF9_TyhJU1",
        "outputId": "904b7d1a-e9b7-479e-cc8c-ad603f55509f"
      },
      "source": [
        "df_ca.groupby('DEM_EDU').agg({'RXDRUGSAFE_HIGH':'mean','RXDRUGSAFE_PAIN':'mean','RXDRUGSAFE_THER':'mean',\n",
        "                              'DAST_1':'mean','DAST_2':'mean','DAST_3':'mean','DAST_4':'mean','DAST_5':'mean',\n",
        "                              'DAST_6':'mean','DAST_7':'mean','DAST_8':'mean','DAST_9':'mean','DAST_10':'mean','DAST_SUM':'mean'})\n",
        "#TODO: run regression for variables "
      ],
      "execution_count": null,
      "outputs": [
        {
          "output_type": "execute_result",
          "data": {
            "text/html": [
              "<div>\n",
              "<style scoped>\n",
              "    .dataframe tbody tr th:only-of-type {\n",
              "        vertical-align: middle;\n",
              "    }\n",
              "\n",
              "    .dataframe tbody tr th {\n",
              "        vertical-align: top;\n",
              "    }\n",
              "\n",
              "    .dataframe thead th {\n",
              "        text-align: right;\n",
              "    }\n",
              "</style>\n",
              "<table border=\"1\" class=\"dataframe\">\n",
              "  <thead>\n",
              "    <tr style=\"text-align: right;\">\n",
              "      <th></th>\n",
              "      <th>RXDRUGSAFE_HIGH</th>\n",
              "      <th>RXDRUGSAFE_PAIN</th>\n",
              "      <th>RXDRUGSAFE_THER</th>\n",
              "      <th>DAST_1</th>\n",
              "      <th>DAST_2</th>\n",
              "      <th>DAST_3</th>\n",
              "      <th>DAST_4</th>\n",
              "      <th>DAST_5</th>\n",
              "      <th>DAST_6</th>\n",
              "      <th>DAST_7</th>\n",
              "      <th>DAST_8</th>\n",
              "      <th>DAST_9</th>\n",
              "      <th>DAST_10</th>\n",
              "      <th>DAST_SUM</th>\n",
              "    </tr>\n",
              "    <tr>\n",
              "      <th>DEM_EDU</th>\n",
              "      <th></th>\n",
              "      <th></th>\n",
              "      <th></th>\n",
              "      <th></th>\n",
              "      <th></th>\n",
              "      <th></th>\n",
              "      <th></th>\n",
              "      <th></th>\n",
              "      <th></th>\n",
              "      <th></th>\n",
              "      <th></th>\n",
              "      <th></th>\n",
              "      <th></th>\n",
              "      <th></th>\n",
              "    </tr>\n",
              "  </thead>\n",
              "  <tbody>\n",
              "    <tr>\n",
              "      <th>1</th>\n",
              "      <td>0.187614</td>\n",
              "      <td>0.735883</td>\n",
              "      <td>0.540984</td>\n",
              "      <td>0.183971</td>\n",
              "      <td>0.027322</td>\n",
              "      <td>0.723133</td>\n",
              "      <td>0.051002</td>\n",
              "      <td>0.109290</td>\n",
              "      <td>0.065574</td>\n",
              "      <td>0.058288</td>\n",
              "      <td>0.041894</td>\n",
              "      <td>0.081967</td>\n",
              "      <td>0.047359</td>\n",
              "      <td>0.943534</td>\n",
              "    </tr>\n",
              "    <tr>\n",
              "      <th>2</th>\n",
              "      <td>0.199916</td>\n",
              "      <td>0.792540</td>\n",
              "      <td>0.608550</td>\n",
              "      <td>0.209556</td>\n",
              "      <td>0.039396</td>\n",
              "      <td>0.773261</td>\n",
              "      <td>0.038977</td>\n",
              "      <td>0.092205</td>\n",
              "      <td>0.039396</td>\n",
              "      <td>0.036463</td>\n",
              "      <td>0.034786</td>\n",
              "      <td>0.065801</td>\n",
              "      <td>0.032272</td>\n",
              "      <td>0.815591</td>\n",
              "    </tr>\n",
              "    <tr>\n",
              "      <th>3</th>\n",
              "      <td>0.208535</td>\n",
              "      <td>0.789525</td>\n",
              "      <td>0.596508</td>\n",
              "      <td>0.254122</td>\n",
              "      <td>0.055286</td>\n",
              "      <td>0.752667</td>\n",
              "      <td>0.053346</td>\n",
              "      <td>0.110572</td>\n",
              "      <td>0.064016</td>\n",
              "      <td>0.047527</td>\n",
              "      <td>0.058196</td>\n",
              "      <td>0.079534</td>\n",
              "      <td>0.036857</td>\n",
              "      <td>1.006790</td>\n",
              "    </tr>\n",
              "    <tr>\n",
              "      <th>4</th>\n",
              "      <td>0.203561</td>\n",
              "      <td>0.801700</td>\n",
              "      <td>0.605828</td>\n",
              "      <td>0.197086</td>\n",
              "      <td>0.047754</td>\n",
              "      <td>0.746257</td>\n",
              "      <td>0.056657</td>\n",
              "      <td>0.089437</td>\n",
              "      <td>0.039255</td>\n",
              "      <td>0.035208</td>\n",
              "      <td>0.052206</td>\n",
              "      <td>0.075273</td>\n",
              "      <td>0.030352</td>\n",
              "      <td>0.876973</td>\n",
              "    </tr>\n",
              "    <tr>\n",
              "      <th>5</th>\n",
              "      <td>0.205333</td>\n",
              "      <td>0.789333</td>\n",
              "      <td>0.592000</td>\n",
              "      <td>0.164000</td>\n",
              "      <td>0.080000</td>\n",
              "      <td>0.693333</td>\n",
              "      <td>0.086667</td>\n",
              "      <td>0.070667</td>\n",
              "      <td>0.038667</td>\n",
              "      <td>0.020000</td>\n",
              "      <td>0.076000</td>\n",
              "      <td>0.086667</td>\n",
              "      <td>0.037333</td>\n",
              "      <td>0.966667</td>\n",
              "    </tr>\n",
              "    <tr>\n",
              "      <th>6</th>\n",
              "      <td>0.236394</td>\n",
              "      <td>0.806487</td>\n",
              "      <td>0.659703</td>\n",
              "      <td>0.195162</td>\n",
              "      <td>0.033535</td>\n",
              "      <td>0.738868</td>\n",
              "      <td>0.035734</td>\n",
              "      <td>0.076416</td>\n",
              "      <td>0.027488</td>\n",
              "      <td>0.020891</td>\n",
              "      <td>0.028587</td>\n",
              "      <td>0.041781</td>\n",
              "      <td>0.021440</td>\n",
              "      <td>0.742166</td>\n",
              "    </tr>\n",
              "    <tr>\n",
              "      <th>7</th>\n",
              "      <td>0.265734</td>\n",
              "      <td>0.818182</td>\n",
              "      <td>0.691309</td>\n",
              "      <td>0.165834</td>\n",
              "      <td>0.027972</td>\n",
              "      <td>0.704296</td>\n",
              "      <td>0.031968</td>\n",
              "      <td>0.077922</td>\n",
              "      <td>0.028971</td>\n",
              "      <td>0.017982</td>\n",
              "      <td>0.024975</td>\n",
              "      <td>0.039960</td>\n",
              "      <td>0.026973</td>\n",
              "      <td>0.738262</td>\n",
              "    </tr>\n",
              "  </tbody>\n",
              "</table>\n",
              "</div>"
            ],
            "text/plain": [
              "         RXDRUGSAFE_HIGH  RXDRUGSAFE_PAIN  ...   DAST_10  DAST_SUM\n",
              "DEM_EDU                                    ...                    \n",
              "1               0.187614         0.735883  ...  0.047359  0.943534\n",
              "2               0.199916         0.792540  ...  0.032272  0.815591\n",
              "3               0.208535         0.789525  ...  0.036857  1.006790\n",
              "4               0.203561         0.801700  ...  0.030352  0.876973\n",
              "5               0.205333         0.789333  ...  0.037333  0.966667\n",
              "6               0.236394         0.806487  ...  0.021440  0.742166\n",
              "7               0.265734         0.818182  ...  0.026973  0.738262\n",
              "\n",
              "[7 rows x 14 columns]"
            ]
          },
          "metadata": {
            "tags": []
          },
          "execution_count": 15
        }
      ]
    },
    {
      "cell_type": "code",
      "metadata": {
        "id": "G1cRs29JWwEf"
      },
      "source": [
        "# analyze usage of each drug "
      ],
      "execution_count": null,
      "outputs": []
    },
    {
      "cell_type": "code",
      "metadata": {
        "id": "abEajYwmcYTy",
        "colab": {
          "base_uri": "https://localhost:8080/",
          "height": 286
        },
        "outputId": "fce38bbb-db07-4757-f9bf-5ac25cea0c5d"
      },
      "source": [
        "# FENT_NMU\n",
        "data_fent=df_ca[['DEM_EDU','FENT_NMU']].dropna()\n",
        "mean_fent=data_fent.groupby('DEM_EDU',as_index=False).mean()\n",
        "# BUP_NMU\n",
        "data_bup=df_ca[['DEM_EDU','BUP_NMU']].dropna()\n",
        "mean_bup=data_bup.groupby('DEM_EDU',as_index=False).mean()\n",
        "# METH_NMU\n",
        "data_meth=df_ca[['DEM_EDU','METH_NMU']].dropna()\n",
        "mean_meth=data_meth.groupby('DEM_EDU',as_index=False).mean()\n",
        "# MORPH_NMU\n",
        "data_MORPH=df_ca[['DEM_EDU','MORPH_NMU']].dropna()\n",
        "mean_MORPH=data_MORPH.groupby('DEM_EDU',as_index=False).mean()\n",
        "# OXY_NMU\n",
        "data_OXY=df_ca[['DEM_EDU','OXY_NMU']].dropna()\n",
        "mean_OXY=data_OXY.groupby('DEM_EDU',as_index=False).mean()\n",
        "# OXYM_NMU\n",
        "data_OXYM=df_ca[['DEM_EDU','OXYM_NMU']].dropna()\n",
        "mean_OXYM=data_OXYM.groupby('DEM_EDU',as_index=False).mean()\n",
        "# TRAM_NMU  \n",
        "data_TRAM=df_ca[['DEM_EDU','TRAM_NMU']].dropna()\n",
        "mean_TRAM=data_TRAM.groupby('DEM_EDU',as_index=False).mean()\n",
        "# TAP_NMU\n",
        "data_TAP=df_ca[['DEM_EDU','TAP_NMU']].dropna()\n",
        "mean_TAP=data_TAP.groupby('DEM_EDU',as_index=False).mean()\n",
        "# COD_NMU\n",
        "data_COD=df_ca[['DEM_EDU','COD_NMU']].dropna()\n",
        "mean_COD=data_COD.groupby('DEM_EDU',as_index=False).mean()\n",
        "# COTC_NMU\n",
        "data_COTC=df_ca[['DEM_EDU','COTC_NMU']].dropna()\n",
        "mean_COTC=data_COTC.groupby('DEM_EDU',as_index=False).mean()\n",
        "# HYD_NMU\n",
        "data_HYD=df_ca[['DEM_EDU','HYD_NMU']].dropna()\n",
        "mean_HYD=data_HYD.groupby('DEM_EDU',as_index=False).mean()\n",
        "# HYDM_NMU\n",
        "data_HYDM=df_ca[['DEM_EDU','HYDM_NMU']].dropna()\n",
        "mean_HYDM=data_HYDM.groupby('DEM_EDU',as_index=False).mean()\n",
        "# SUF_NMU\n",
        "data_SUF=df_ca[['DEM_EDU','SUF_NMU']].dropna()\n",
        "mean_SUF=data_SUF.groupby('DEM_EDU',as_index=False).mean()\n",
        "# STIM_NMU\n",
        "data_STIM=df_ca[['DEM_EDU','STIM_NMU']].dropna()\n",
        "mean_STIM=data_STIM.groupby('DEM_EDU',as_index=False).mean()\n",
        "# BENZ_NMU  \n",
        "data_BENZ=df_ca[['DEM_EDU','BENZ_NMU']].dropna()\n",
        "mean_BENZ=data_BENZ.groupby('DEM_EDU',as_index=False).mean()\n",
        "# THC_NMU\n",
        "data_THC=df_ca[['DEM_EDU','THC_NMU']].dropna()\n",
        "mean_THC=data_THC.groupby('DEM_EDU',as_index=False).mean()\n",
        "\n",
        "\n",
        "from functools import reduce\n",
        "\n",
        "dfs = [mean_fent, mean_bup, mean_meth, mean_MORPH, mean_OXY, mean_OXYM, mean_TRAM, \n",
        "       mean_TAP, mean_COD, mean_COTC, mean_HYD, mean_HYDM, mean_SUF, mean_STIM, mean_BENZ, mean_THC] # list of dataframes\n",
        "\n",
        "result= reduce(lambda df_left,df_right: pd.merge(df_left, df_right, \n",
        "                                              left_index=True, right_index=True, \n",
        "                                              on='DEM_EDU'), dfs)\n"
      ],
      "execution_count": null,
      "outputs": [
        {
          "output_type": "execute_result",
          "data": {
            "text/html": [
              "<div>\n",
              "<style scoped>\n",
              "    .dataframe tbody tr th:only-of-type {\n",
              "        vertical-align: middle;\n",
              "    }\n",
              "\n",
              "    .dataframe tbody tr th {\n",
              "        vertical-align: top;\n",
              "    }\n",
              "\n",
              "    .dataframe thead th {\n",
              "        text-align: right;\n",
              "    }\n",
              "</style>\n",
              "<table border=\"1\" class=\"dataframe\">\n",
              "  <thead>\n",
              "    <tr style=\"text-align: right;\">\n",
              "      <th></th>\n",
              "      <th>DEM_EDU</th>\n",
              "      <th>FENT_NMU</th>\n",
              "      <th>BUP_NMU</th>\n",
              "      <th>METH_NMU</th>\n",
              "      <th>MORPH_NMU</th>\n",
              "      <th>OXY_NMU</th>\n",
              "      <th>OXYM_NMU</th>\n",
              "      <th>TRAM_NMU</th>\n",
              "      <th>TAP_NMU</th>\n",
              "      <th>COD_NMU</th>\n",
              "      <th>COTC_NMU</th>\n",
              "      <th>HYD_NMU</th>\n",
              "      <th>HYDM_NMU</th>\n",
              "      <th>SUF_NMU</th>\n",
              "      <th>STIM_NMU</th>\n",
              "      <th>BENZ_NMU</th>\n",
              "      <th>THC_NMU</th>\n",
              "    </tr>\n",
              "  </thead>\n",
              "  <tbody>\n",
              "    <tr>\n",
              "      <th>0</th>\n",
              "      <td>1</td>\n",
              "      <td>0.083333</td>\n",
              "      <td>0.375000</td>\n",
              "      <td>0.111111</td>\n",
              "      <td>0.062500</td>\n",
              "      <td>0.169014</td>\n",
              "      <td>0.200000</td>\n",
              "      <td>0.142857</td>\n",
              "      <td>0.750000</td>\n",
              "      <td>0.262108</td>\n",
              "      <td>0.284900</td>\n",
              "      <td>0.275862</td>\n",
              "      <td>0.129630</td>\n",
              "      <td>0.000000</td>\n",
              "      <td>0.297297</td>\n",
              "      <td>0.103448</td>\n",
              "      <td>0.846154</td>\n",
              "    </tr>\n",
              "    <tr>\n",
              "      <th>1</th>\n",
              "      <td>2</td>\n",
              "      <td>0.238806</td>\n",
              "      <td>0.225806</td>\n",
              "      <td>0.227273</td>\n",
              "      <td>0.069620</td>\n",
              "      <td>0.142077</td>\n",
              "      <td>0.394737</td>\n",
              "      <td>0.110345</td>\n",
              "      <td>0.307692</td>\n",
              "      <td>0.245021</td>\n",
              "      <td>0.259505</td>\n",
              "      <td>0.141104</td>\n",
              "      <td>0.133858</td>\n",
              "      <td>0.157895</td>\n",
              "      <td>0.418033</td>\n",
              "      <td>0.099307</td>\n",
              "      <td>0.542373</td>\n",
              "    </tr>\n",
              "    <tr>\n",
              "      <th>2</th>\n",
              "      <td>3</td>\n",
              "      <td>0.125000</td>\n",
              "      <td>0.388889</td>\n",
              "      <td>0.280000</td>\n",
              "      <td>0.096899</td>\n",
              "      <td>0.108247</td>\n",
              "      <td>0.147059</td>\n",
              "      <td>0.113924</td>\n",
              "      <td>0.142857</td>\n",
              "      <td>0.229167</td>\n",
              "      <td>0.268229</td>\n",
              "      <td>0.109589</td>\n",
              "      <td>0.108696</td>\n",
              "      <td>0.100000</td>\n",
              "      <td>0.333333</td>\n",
              "      <td>0.119617</td>\n",
              "      <td>0.538462</td>\n",
              "    </tr>\n",
              "    <tr>\n",
              "      <th>3</th>\n",
              "      <td>4</td>\n",
              "      <td>0.093023</td>\n",
              "      <td>0.272727</td>\n",
              "      <td>0.204082</td>\n",
              "      <td>0.062136</td>\n",
              "      <td>0.082707</td>\n",
              "      <td>0.233333</td>\n",
              "      <td>0.082474</td>\n",
              "      <td>0.240000</td>\n",
              "      <td>0.237668</td>\n",
              "      <td>0.251682</td>\n",
              "      <td>0.132653</td>\n",
              "      <td>0.084507</td>\n",
              "      <td>0.204545</td>\n",
              "      <td>0.210000</td>\n",
              "      <td>0.082031</td>\n",
              "      <td>0.385965</td>\n",
              "    </tr>\n",
              "    <tr>\n",
              "      <th>4</th>\n",
              "      <td>5</td>\n",
              "      <td>0.263158</td>\n",
              "      <td>0.333333</td>\n",
              "      <td>0.363636</td>\n",
              "      <td>0.054217</td>\n",
              "      <td>0.096491</td>\n",
              "      <td>0.280000</td>\n",
              "      <td>0.191176</td>\n",
              "      <td>0.500000</td>\n",
              "      <td>0.291089</td>\n",
              "      <td>0.299010</td>\n",
              "      <td>0.208955</td>\n",
              "      <td>0.118182</td>\n",
              "      <td>0.285714</td>\n",
              "      <td>0.270270</td>\n",
              "      <td>0.088608</td>\n",
              "      <td>0.391304</td>\n",
              "    </tr>\n",
              "    <tr>\n",
              "      <th>5</th>\n",
              "      <td>6</td>\n",
              "      <td>0.163636</td>\n",
              "      <td>0.269231</td>\n",
              "      <td>0.250000</td>\n",
              "      <td>0.057402</td>\n",
              "      <td>0.147766</td>\n",
              "      <td>0.265306</td>\n",
              "      <td>0.139860</td>\n",
              "      <td>0.350000</td>\n",
              "      <td>0.202609</td>\n",
              "      <td>0.233308</td>\n",
              "      <td>0.112500</td>\n",
              "      <td>0.087209</td>\n",
              "      <td>0.076923</td>\n",
              "      <td>0.435294</td>\n",
              "      <td>0.093023</td>\n",
              "      <td>0.358974</td>\n",
              "    </tr>\n",
              "    <tr>\n",
              "      <th>6</th>\n",
              "      <td>7</td>\n",
              "      <td>0.021277</td>\n",
              "      <td>0.290323</td>\n",
              "      <td>0.222222</td>\n",
              "      <td>0.054945</td>\n",
              "      <td>0.098485</td>\n",
              "      <td>0.173913</td>\n",
              "      <td>0.118280</td>\n",
              "      <td>0.111111</td>\n",
              "      <td>0.165498</td>\n",
              "      <td>0.246844</td>\n",
              "      <td>0.107527</td>\n",
              "      <td>0.076190</td>\n",
              "      <td>0.192308</td>\n",
              "      <td>0.264151</td>\n",
              "      <td>0.105263</td>\n",
              "      <td>0.250000</td>\n",
              "    </tr>\n",
              "  </tbody>\n",
              "</table>\n",
              "</div>"
            ],
            "text/plain": [
              "   DEM_EDU  FENT_NMU   BUP_NMU  ...  STIM_NMU  BENZ_NMU   THC_NMU\n",
              "0        1  0.083333  0.375000  ...  0.297297  0.103448  0.846154\n",
              "1        2  0.238806  0.225806  ...  0.418033  0.099307  0.542373\n",
              "2        3  0.125000  0.388889  ...  0.333333  0.119617  0.538462\n",
              "3        4  0.093023  0.272727  ...  0.210000  0.082031  0.385965\n",
              "4        5  0.263158  0.333333  ...  0.270270  0.088608  0.391304\n",
              "5        6  0.163636  0.269231  ...  0.435294  0.093023  0.358974\n",
              "6        7  0.021277  0.290323  ...  0.264151  0.105263  0.250000\n",
              "\n",
              "[7 rows x 17 columns]"
            ]
          },
          "metadata": {
            "tags": []
          },
          "execution_count": 27
        }
      ]
    },
    {
      "cell_type": "markdown",
      "metadata": {
        "id": "3Z2i97StxdwW"
      },
      "source": [
        "###Conclusion:\n",
        "Higher education is associated with higher belief in the safety of prescription drugs than illicit drugs\n",
        "DAST_1 measures whether an individual has used drugs other than those required for medical reasons. There is no obvious correlation between an individual’s DAST_score and her degree of education. \n",
        "This indicates even though individuals with a higher degree of education understand the safety of prescription drugs, they are not very aware of the potential hazard of consuming prescription drugs without following guidance. Otherwise, higher education would be associated with a lower DAST_1 score. "
      ]
    },
    {
      "cell_type": "markdown",
      "metadata": {
        "id": "E37x7981iBpi"
      },
      "source": [
        "##2. Income \n",
        "\n",
        "Does the income level of an individual affect NMU? To what extent?"
      ]
    },
    {
      "cell_type": "code",
      "metadata": {
        "id": "D3f5RXp1jSP6"
      },
      "source": [
        "# variable: DEM_INCOME\n",
        "#Under $20,000\t1\n",
        "# Between $20,000 and $39,999\t2\n",
        "# Between $40,000 and $59,999\t3\n",
        "# Between $60,000 and $79,999\t4\n",
        "# Between $80,000 and $99,999\t5\n",
        "# Between $100,000 and $119,999\t6\n",
        "# Between $120,000 and $139,999\t7\n",
        "# Between $140,000 and $159,999\t8\n",
        "# $160,000 or more\t9\n",
        "# Prefer not to say 10"
      ],
      "execution_count": null,
      "outputs": []
    },
    {
      "cell_type": "code",
      "metadata": {
        "colab": {
          "base_uri": "https://localhost:8080/",
          "height": 359
        },
        "id": "NggtzC0Xj5ZH",
        "outputId": "3c77aad8-544f-4a23-e6d1-d13c275c21b8"
      },
      "source": [
        "df_income = df_ca.groupby('DEM_INCOME',as_index=False)\n",
        "df_income.count()[['DEM_INCOME','DATE']]"
      ],
      "execution_count": null,
      "outputs": [
        {
          "output_type": "execute_result",
          "data": {
            "text/html": [
              "<div>\n",
              "<style scoped>\n",
              "    .dataframe tbody tr th:only-of-type {\n",
              "        vertical-align: middle;\n",
              "    }\n",
              "\n",
              "    .dataframe tbody tr th {\n",
              "        vertical-align: top;\n",
              "    }\n",
              "\n",
              "    .dataframe thead th {\n",
              "        text-align: right;\n",
              "    }\n",
              "</style>\n",
              "<table border=\"1\" class=\"dataframe\">\n",
              "  <thead>\n",
              "    <tr style=\"text-align: right;\">\n",
              "      <th></th>\n",
              "      <th>DEM_INCOME</th>\n",
              "      <th>DATE</th>\n",
              "    </tr>\n",
              "  </thead>\n",
              "  <tbody>\n",
              "    <tr>\n",
              "      <th>0</th>\n",
              "      <td>1</td>\n",
              "      <td>866</td>\n",
              "    </tr>\n",
              "    <tr>\n",
              "      <th>1</th>\n",
              "      <td>2</td>\n",
              "      <td>1685</td>\n",
              "    </tr>\n",
              "    <tr>\n",
              "      <th>2</th>\n",
              "      <td>3</td>\n",
              "      <td>1747</td>\n",
              "    </tr>\n",
              "    <tr>\n",
              "      <th>3</th>\n",
              "      <td>4</td>\n",
              "      <td>1450</td>\n",
              "    </tr>\n",
              "    <tr>\n",
              "      <th>4</th>\n",
              "      <td>5</td>\n",
              "      <td>1123</td>\n",
              "    </tr>\n",
              "    <tr>\n",
              "      <th>5</th>\n",
              "      <td>6</td>\n",
              "      <td>784</td>\n",
              "    </tr>\n",
              "    <tr>\n",
              "      <th>6</th>\n",
              "      <td>7</td>\n",
              "      <td>461</td>\n",
              "    </tr>\n",
              "    <tr>\n",
              "      <th>7</th>\n",
              "      <td>8</td>\n",
              "      <td>311</td>\n",
              "    </tr>\n",
              "    <tr>\n",
              "      <th>8</th>\n",
              "      <td>9</td>\n",
              "      <td>420</td>\n",
              "    </tr>\n",
              "    <tr>\n",
              "      <th>9</th>\n",
              "      <td>10</td>\n",
              "      <td>1160</td>\n",
              "    </tr>\n",
              "  </tbody>\n",
              "</table>\n",
              "</div>"
            ],
            "text/plain": [
              "   DEM_INCOME  DATE\n",
              "0           1   866\n",
              "1           2  1685\n",
              "2           3  1747\n",
              "3           4  1450\n",
              "4           5  1123\n",
              "5           6   784\n",
              "6           7   461\n",
              "7           8   311\n",
              "8           9   420\n",
              "9          10  1160"
            ]
          },
          "metadata": {
            "tags": []
          },
          "execution_count": 10
        }
      ]
    },
    {
      "cell_type": "code",
      "metadata": {
        "colab": {
          "base_uri": "https://localhost:8080/",
          "height": 265
        },
        "id": "fSp8e_8yk5P9",
        "outputId": "d0eb2505-42a3-49ce-cb95-2f5f50c695e0"
      },
      "source": [
        "num_income=df_income.count()['DATE']\n",
        "num_income.plot.pie(autopct=\"%.1f%%\")"
      ],
      "execution_count": null,
      "outputs": [
        {
          "output_type": "execute_result",
          "data": {
            "text/plain": [
              "<matplotlib.axes._subplots.AxesSubplot at 0x7f8ee9e88190>"
            ]
          },
          "metadata": {
            "tags": []
          },
          "execution_count": 10
        },
        {
          "output_type": "display_data",
          "data": {
            "image/png": "[encoded data removed]",
            "text/plain": [
              "<Figure size 432x288 with 1 Axes>"
            ]
          },
          "metadata": {
            "tags": []
          }
        }
      ]
    },
    {
      "cell_type": "code",
      "metadata": {
        "colab": {
          "base_uri": "https://localhost:8080/",
          "height": 304
        },
        "id": "pejnobb8myVx",
        "outputId": "e5f35831-d433-4027-ef28-429bbdd632ca"
      },
      "source": [
        "# generate barplots of NMU purpose across income levels\n",
        "sns.barplot(x=\"DEM_INCOME\",y=\"RXDRUGSAFE_HIGH\",data=df_ca)"
      ],
      "execution_count": null,
      "outputs": [
        {
          "output_type": "execute_result",
          "data": {
            "text/plain": [
              "<matplotlib.axes._subplots.AxesSubplot at 0x7f41a293c1d0>"
            ]
          },
          "metadata": {
            "tags": []
          },
          "execution_count": 23
        },
        {
          "output_type": "display_data",
          "data": {
            "image/png": "[encoded data removed]",
            "text/plain": [
              "<Figure size 432x288 with 1 Axes>"
            ]
          },
          "metadata": {
            "tags": []
          }
        }
      ]
    },
    {
      "cell_type": "code",
      "metadata": {
        "id": "IFeVJy7g5T1C",
        "colab": {
          "base_uri": "https://localhost:8080/",
          "height": 303
        },
        "outputId": "163b609b-5590-402d-f287-17fb44b5f148"
      },
      "source": [
        "sns.barplot(x=\"DEM_INCOME\",y=\"RXDRUGSAFE_PAIN\",data=df_ca)"
      ],
      "execution_count": null,
      "outputs": [
        {
          "output_type": "execute_result",
          "data": {
            "text/plain": [
              "<matplotlib.axes._subplots.AxesSubplot at 0x7fb24ecaa510>"
            ]
          },
          "metadata": {
            "tags": []
          },
          "execution_count": 11
        },
        {
          "output_type": "display_data",
          "data": {
            "image/png": "[encoded data removed]",
            "text/plain": [
              "<Figure size 432x288 with 1 Axes>"
            ]
          },
          "metadata": {
            "tags": []
          }
        }
      ]
    },
    {
      "cell_type": "code",
      "metadata": {
        "colab": {
          "base_uri": "https://localhost:8080/",
          "height": 302
        },
        "id": "L9JrAPCCnlUx",
        "outputId": "04fa8c37-907e-4a0d-fe11-4fc8f32c6724"
      },
      "source": [
        "# generate barplots of NMU purpose across income levels\n",
        "sns.barplot(x=\"DEM_INCOME\",y=\"RXDRUGSAFE_THER\",data=df_ca)"
      ],
      "execution_count": null,
      "outputs": [
        {
          "output_type": "execute_result",
          "data": {
            "text/plain": [
              "<matplotlib.axes._subplots.AxesSubplot at 0x7f41a283b250>"
            ]
          },
          "metadata": {
            "tags": []
          },
          "execution_count": 24
        },
        {
          "output_type": "display_data",
          "data": {
            "image/png": "[encoded data removed]",
            "text/plain": [
              "<Figure size 432x288 with 1 Axes>"
            ]
          },
          "metadata": {
            "tags": []
          }
        }
      ]
    },
    {
      "cell_type": "markdown",
      "metadata": {
        "id": "g5SkwoGmn1B7"
      },
      "source": [
        "There is a slight positive correlation between the purpose of NMU and income levels. Relating this to the previous observations on levels of education, it is plausible that there is some degree of collinearity between income and education levels."
      ]
    },
    {
      "cell_type": "markdown",
      "metadata": {
        "id": "Aqwv301oNgms"
      },
      "source": [
        "##3. Gender"
      ]
    },
    {
      "cell_type": "code",
      "metadata": {
        "id": "pgl5ID1COSpt"
      },
      "source": [
        "# 1: male\n",
        "# 2: female"
      ],
      "execution_count": null,
      "outputs": []
    },
    {
      "cell_type": "code",
      "metadata": {
        "id": "4Lib8GDSnk-5",
        "colab": {
          "base_uri": "https://localhost:8080/",
          "height": 111
        },
        "outputId": "7f05dd65-4988-48c3-beaf-4591187f67cb"
      },
      "source": [
        "df_gender = df_ca.groupby('DEM_GENDER',as_index=False)\n",
        "df_gender.count()[['DEM_GENDER','DATE']]"
      ],
      "execution_count": null,
      "outputs": [
        {
          "output_type": "execute_result",
          "data": {
            "text/html": [
              "<div>\n",
              "<style scoped>\n",
              "    .dataframe tbody tr th:only-of-type {\n",
              "        vertical-align: middle;\n",
              "    }\n",
              "\n",
              "    .dataframe tbody tr th {\n",
              "        vertical-align: top;\n",
              "    }\n",
              "\n",
              "    .dataframe thead th {\n",
              "        text-align: right;\n",
              "    }\n",
              "</style>\n",
              "<table border=\"1\" class=\"dataframe\">\n",
              "  <thead>\n",
              "    <tr style=\"text-align: right;\">\n",
              "      <th></th>\n",
              "      <th>DEM_GENDER</th>\n",
              "      <th>DATE</th>\n",
              "    </tr>\n",
              "  </thead>\n",
              "  <tbody>\n",
              "    <tr>\n",
              "      <th>0</th>\n",
              "      <td>1</td>\n",
              "      <td>5005</td>\n",
              "    </tr>\n",
              "    <tr>\n",
              "      <th>1</th>\n",
              "      <td>2</td>\n",
              "      <td>5002</td>\n",
              "    </tr>\n",
              "  </tbody>\n",
              "</table>\n",
              "</div>"
            ],
            "text/plain": [
              "   DEM_GENDER  DATE\n",
              "0           1  5005\n",
              "1           2  5002"
            ]
          },
          "metadata": {
            "tags": []
          },
          "execution_count": 4
        }
      ]
    },
    {
      "cell_type": "markdown",
      "metadata": {
        "id": "tfvwfWIFUtUZ"
      },
      "source": [
        "Fewer women (20%) than men (23%) believe that prescription drugs are safer than illicit drugs for enjoyment."
      ]
    },
    {
      "cell_type": "code",
      "metadata": {
        "colab": {
          "base_uri": "https://localhost:8080/",
          "height": 302
        },
        "id": "7SPPnMlZOY24",
        "outputId": "f01bce10-a14a-4570-a7f1-293dc121f5ee"
      },
      "source": [
        "sns.barplot(x= \"DEM_GENDER\", y=\"RXDRUGSAFE_HIGH\",data=df_ca)"
      ],
      "execution_count": null,
      "outputs": [
        {
          "output_type": "execute_result",
          "data": {
            "text/plain": [
              "<matplotlib.axes._subplots.AxesSubplot at 0x7f934625ce10>"
            ]
          },
          "metadata": {
            "tags": []
          },
          "execution_count": 5
        },
        {
          "output_type": "display_data",
          "data": {
            "image/png": "[encoded data removed]",
            "text/plain": [
              "<Figure size 432x288 with 1 Axes>"
            ]
          },
          "metadata": {
            "tags": []
          }
        }
      ]
    },
    {
      "cell_type": "code",
      "metadata": {
        "colab": {
          "base_uri": "https://localhost:8080/",
          "height": 302
        },
        "id": "7gejyyYIOqjk",
        "outputId": "5ea7deae-262b-45d5-dfdb-53b8be1fbd01"
      },
      "source": [
        "sns.barplot(x= \"DEM_GENDER\", y=\"RXDRUGSAFE_PAIN\",data=df_ca)"
      ],
      "execution_count": null,
      "outputs": [
        {
          "output_type": "execute_result",
          "data": {
            "text/plain": [
              "<matplotlib.axes._subplots.AxesSubplot at 0x7f9344f28510>"
            ]
          },
          "metadata": {
            "tags": []
          },
          "execution_count": 6
        },
        {
          "output_type": "display_data",
          "data": {
            "image/png": "[encoded data removed]",
            "text/plain": [
              "<Figure size 432x288 with 1 Axes>"
            ]
          },
          "metadata": {
            "tags": []
          }
        }
      ]
    },
    {
      "cell_type": "code",
      "metadata": {
        "colab": {
          "base_uri": "https://localhost:8080/",
          "height": 302
        },
        "id": "j7t85uKyOzyV",
        "outputId": "47a2d8f4-2656-45b3-9b4c-71497631568d"
      },
      "source": [
        "sns.barplot(x= \"DEM_GENDER\", y=\"RXDRUGSAFE_THER\",data=df_ca)"
      ],
      "execution_count": null,
      "outputs": [
        {
          "output_type": "execute_result",
          "data": {
            "text/plain": [
              "<matplotlib.axes._subplots.AxesSubplot at 0x7f9344e9e050>"
            ]
          },
          "metadata": {
            "tags": []
          },
          "execution_count": 7
        },
        {
          "output_type": "display_data",
          "data": {
            "image/png": "[encoded data removed]",
            "text/plain": [
              "<Figure size 432x288 with 1 Axes>"
            ]
          },
          "metadata": {
            "tags": []
          }
        }
      ]
    },
    {
      "cell_type": "markdown",
      "metadata": {
        "id": "ViWYzoB7X1vO"
      },
      "source": [
        "Does gender have a relationship with attitude and psychological response toward drug use?\n"
      ]
    },
    {
      "cell_type": "code",
      "metadata": {
        "colab": {
          "base_uri": "https://localhost:8080/",
          "height": 302
        },
        "id": "6blt2JUJXogh",
        "outputId": "a6c1f26f-6d5a-4278-ce66-1e78ba46da6f"
      },
      "source": [
        "sns.barplot(x = \"DEM_GENDER\",y = \"DAST_SUM\",data = df_ca)"
      ],
      "execution_count": null,
      "outputs": [
        {
          "output_type": "execute_result",
          "data": {
            "text/plain": [
              "<matplotlib.axes._subplots.AxesSubplot at 0x7f933bd4cb90>"
            ]
          },
          "metadata": {
            "tags": []
          },
          "execution_count": 14
        },
        {
          "output_type": "display_data",
          "data": {
            "image/png": "[encoded data removed]",
            "text/plain": [
              "<Figure size 432x288 with 1 Axes>"
            ]
          },
          "metadata": {
            "tags": []
          }
        }
      ]
    },
    {
      "cell_type": "markdown",
      "metadata": {
        "id": "qvHgz7CI_RTm"
      },
      "source": [
        "Women generally have a more positive attitude and psychological response towards drug use than men, with a mean DAST_SUM of 0.75 compared to 0.95 for men."
      ]
    },
    {
      "cell_type": "markdown",
      "metadata": {
        "id": "rz8dP-z9YmqC"
      },
      "source": [
        "This trend is more clearly observed in the side-by-side plot below, where more women than men fall under category 1 in response to drug use, from DAST_CAT 1 representing no negative response reported to DAST_CAT 5 severe negative response."
      ]
    },
    {
      "cell_type": "code",
      "metadata": {
        "id": "5IlHxKUnS44r",
        "colab": {
          "base_uri": "https://localhost:8080/",
          "height": 302
        },
        "outputId": "71071fd6-f6e0-4af4-f7a1-2883df6855e2"
      },
      "source": [
        "sns.countplot(x = \"DAST_CAT\",hue = \"DEM_GENDER\",data = df_ca)"
      ],
      "execution_count": null,
      "outputs": [
        {
          "output_type": "execute_result",
          "data": {
            "text/plain": [
              "<matplotlib.axes._subplots.AxesSubplot at 0x7f933c83bf50>"
            ]
          },
          "metadata": {
            "tags": []
          },
          "execution_count": 13
        },
        {
          "output_type": "display_data",
          "data": {
            "image/png": "[encoded data removed]",
            "text/plain": [
              "<Figure size 432x288 with 1 Axes>"
            ]
          },
          "metadata": {
            "tags": []
          }
        }
      ]
    }
  ]
}